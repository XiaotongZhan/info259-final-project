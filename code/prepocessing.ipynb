{
 "cells": [
  {
   "cell_type": "markdown",
   "id": "9ba5ff87-e572-4d2d-9bf4-395a9b2bab87",
   "metadata": {},
   "source": [
    "### Step 1: Data Preparation"
   ]
  },
  {
   "cell_type": "code",
   "execution_count": 1,
   "id": "80bd324f-5db9-488e-94c6-0299c79cae50",
   "metadata": {},
   "outputs": [],
   "source": [
    "import os\n",
    "import json\n",
    "import re\n",
    "\n",
    "# ========== Path Config ==========\n",
    "EXTRACT_DIR = '../data/twitter15/twitter15'\n",
    "TREE_DIR = os.path.join(EXTRACT_DIR, 'tree')\n",
    "OUTPUT_PATH = os.path.join(EXTRACT_DIR, 'twitter15_chain.jsonl')"
   ]
  },
  {
   "cell_type": "code",
   "execution_count": 2,
   "id": "4d5002a1-4aa8-4fc2-863e-156bc68d3b3c",
   "metadata": {},
   "outputs": [
    {
     "name": "stdout",
     "output_type": "stream",
     "text": [
      " Sample label:\n",
      "[('731166399389962242', 'unverified'), ('714598641827246081', 'unverified'), ('691809004356501505', 'non-rumor')]\n",
      "\n",
      " Sample text:\n",
      "[('731166399389962242', '🔥ca kkk grand wizard 🔥 endorses @hillaryclinton #neverhillary #trump2016 URL'), ('714598641827246081', 'an open letter to trump voters from his top strategist-turned-defector URL via @xojanedotcom'), ('691809004356501505', '\"america is a nation of second chances\" —@potus on new reforms to solitary confinement: URL URL')]\n",
      "\n",
      " Sample processed event:\n",
      "Event ID: 731166399389962242\n",
      "Label: unverified\n",
      "Chain Length: 148 nodes\n",
      "\n",
      "First 5 nodes in chain:\n",
      "  Tweet ID: 731166399389962242 | Parent: ROOT | Text snippet: 🔥ca kkk grand wizard 🔥 endorse...\n",
      "  Tweet ID: 731168205788471297 | Parent: 731166399389962242 | Text snippet: ...\n",
      "  Tweet ID: 731166399389962242 | Parent: 731166399389962242 | Text snippet: 🔥ca kkk grand wizard 🔥 endorse...\n",
      "  Tweet ID: 731166399389962242 | Parent: 731166399389962242 | Text snippet: 🔥ca kkk grand wizard 🔥 endorse...\n",
      "  Tweet ID: 731166399389962242 | Parent: 731166399389962242 | Text snippet: 🔥ca kkk grand wizard 🔥 endorse...\n",
      "\n",
      " Saved 1490 propagation chains to ../data/twitter15/twitter15/twitter15_chain.jsonl\n"
     ]
    }
   ],
   "source": [
    "# ========== Load label.txt ==========\n",
    "def load_labels(path):\n",
    "    \"\"\"Load labels from label.txt in format: label:tweet_id\"\"\"\n",
    "    label_dict = {}\n",
    "    with open(path, 'r') as f:\n",
    "        for line in f:\n",
    "            parts = line.strip().split(\":\")\n",
    "            if len(parts) == 2:\n",
    "                label, eid = parts\n",
    "                label_dict[eid.strip()] = label.strip().lower()\n",
    "    return label_dict\n",
    "\n",
    "# ========== Load source_tweets.txt ==========\n",
    "def load_texts(path):\n",
    "    \"\"\"Load tweet_id and text from source_tweets.txt\"\"\"\n",
    "    text_dict = {}\n",
    "    with open(path, 'r') as f:\n",
    "        for line in f:\n",
    "            parts = line.strip().split(\"\\t\", 1)\n",
    "            if len(parts) == 2:\n",
    "                eid, text = parts\n",
    "                text_dict[eid.strip()] = text.strip()\n",
    "    return text_dict\n",
    "\n",
    "# ========== Parse tree file ==========\n",
    "def parse_tree_file(tree_path):\n",
    "    \"\"\"Parse a single tree file into (child_tid, parent_tid) edges\"\"\"\n",
    "    edges = []\n",
    "    with open(tree_path, 'r') as f:\n",
    "        for line in f:\n",
    "            if '->' not in line:\n",
    "                continue\n",
    "            src, tgt = line.strip().split('->')\n",
    "            src = eval(src.strip())  # e.g., ['ROOT'] or [user_id, tweet_id, time]\n",
    "            tgt = eval(tgt.strip())\n",
    "            parent_tid = None if src[0] == 'ROOT' else src[1]\n",
    "            child_tid = tgt[1]\n",
    "            edges.append((child_tid, parent_tid))\n",
    "    return edges\n",
    "\n",
    "# ========== Build single event ==========\n",
    "def build_event_chain(eid, tree_dir, eid2text, eid2label):\n",
    "    tree_path = os.path.join(tree_dir, f\"{eid}.txt\")\n",
    "    edge_list = parse_tree_file(tree_path)\n",
    "\n",
    "    chain = []\n",
    "    for child_tid, parent_tid in edge_list:\n",
    "        text = eid2text.get(child_tid, \"\")\n",
    "        chain.append({\n",
    "            'tweet_id': child_tid,\n",
    "            'text': text,\n",
    "            'parent': parent_tid or 'ROOT'\n",
    "        })\n",
    "\n",
    "    return {\n",
    "        'event_id': eid,\n",
    "        'label': eid2label[eid],\n",
    "        'chain': chain\n",
    "    }\n",
    "\n",
    "# ========== Run full pipeline ==========\n",
    "def process_all_events(label_path, text_path, tree_dir, output_path):\n",
    "    # Load label and text dictionaries\n",
    "    eid2label = load_labels(label_path)\n",
    "    eid2text = load_texts(text_path)\n",
    "\n",
    "    print(\" Sample label:\")\n",
    "    print(list(eid2label.items())[:3])\n",
    "    print(\"\\n Sample text:\")\n",
    "    print(list(eid2text.items())[:3])\n",
    "\n",
    "    # Build event chains\n",
    "    all_events = []\n",
    "    for eid in eid2label:\n",
    "        if eid in eid2text:\n",
    "            event = build_event_chain(eid, tree_dir, eid2text, eid2label)\n",
    "            all_events.append(event)\n",
    "\n",
    "    # Print one sample event chain\n",
    "    print(\"\\n Sample processed event:\")\n",
    "    print(f\"Event ID: {all_events[0]['event_id']}\")\n",
    "    print(f\"Label: {all_events[0]['label']}\")\n",
    "    print(f\"Chain Length: {len(all_events[0]['chain'])} nodes\")\n",
    "\n",
    "    # Save to jsonl\n",
    "    with open(output_path, 'w') as f:\n",
    "        for event in all_events:\n",
    "            f.write(json.dumps(event) + '\\n')\n",
    "\n",
    "    # Only show first 5 nodes in chain\n",
    "    print(\"\\nFirst 5 nodes in chain:\")\n",
    "    for node in all_events[0]['chain'][:5]:\n",
    "        print(f\"  Tweet ID: {node['tweet_id']} | Parent: {node['parent']} | Text snippet: {node['text'][:30]}...\")\n",
    "    \n",
    "    print(f\"\\n Saved {len(all_events)} propagation chains to {output_path}\")\n",
    "\n",
    "# ========== Execute ==========\n",
    "if __name__ == \"__main__\" or True:  # for notebook\n",
    "    process_all_events(\n",
    "        label_path=os.path.join(EXTRACT_DIR, 'label.txt'),\n",
    "        text_path=os.path.join(EXTRACT_DIR, 'source_tweets.txt'),\n",
    "        tree_dir=TREE_DIR,\n",
    "        output_path=OUTPUT_PATH\n",
    "    )"
   ]
  },
  {
   "cell_type": "markdown",
   "id": "c01c08ed-d111-4fbc-b9ef-968cd9f9919e",
   "metadata": {},
   "source": [
    "### Step 2: Feature Construction for Mamba"
   ]
  },
  {
   "cell_type": "code",
   "execution_count": 3,
   "id": "aad8aa2c-6e86-4d4a-bff9-408b12ed07da",
   "metadata": {},
   "outputs": [
    {
     "name": "stdout",
     "output_type": "stream",
     "text": [
      "Loaded 1490 events.\n",
      "Built time dictionary with 53641 entries.\n",
      "Sample event ID: 731166399389962242, chain length: 148\n"
     ]
    }
   ],
   "source": [
    "# 2.1 Load the processed propagation chain data\n",
    "import json\n",
    "\n",
    "# Load processed propagation chains\n",
    "CHAIN_PATH = '../data/twitter15/twitter15/twitter15_chain.jsonl'\n",
    "\n",
    "all_events = []\n",
    "with open(CHAIN_PATH, 'r') as f:\n",
    "    for line in f:\n",
    "        all_events.append(json.loads(line))\n",
    "\n",
    "print(f\"Loaded {len(all_events)} events.\")\n",
    "\n",
    "# 2.1b Build tweet_id -> relative_time dictionary from tree files\n",
    "def build_tweet_time_dict(tree_dir):\n",
    "    eid2time = {}  # {tweet_id: relative_time}\n",
    "\n",
    "    for fname in os.listdir(tree_dir):\n",
    "        if not fname.endswith('.txt'):\n",
    "            continue\n",
    "        \n",
    "        tree_path = os.path.join(tree_dir, fname)\n",
    "\n",
    "        with open(tree_path, 'r') as f:\n",
    "            for line in f:\n",
    "                if '->' not in line:\n",
    "                    continue\n",
    "                src, tgt = line.strip().split('->')\n",
    "                src_info = eval(src.strip())\n",
    "                tgt_info = eval(tgt.strip())\n",
    "\n",
    "                target_tid = tgt_info[1]\n",
    "                target_time = float(tgt_info[2])\n",
    "\n",
    "                eid2time[target_tid] = target_time\n",
    "\n",
    "    return eid2time\n",
    "\n",
    "eid2time = build_tweet_time_dict(TREE_DIR)\n",
    "\n",
    "print(f\"Built time dictionary with {len(eid2time)} entries.\")\n",
    "\n",
    "print(f\"Sample event ID: {all_events[0]['event_id']}, chain length: {len(all_events[0]['chain'])}\")\n"
   ]
  },
  {
   "cell_type": "code",
   "execution_count": 17,
   "id": "ac3d78f3-b55c-436f-9e41-fd1772fd1b37",
   "metadata": {},
   "outputs": [],
   "source": [
    "# 2.2 Text feature: Encode tweet text with BERT\n",
    "from transformers import BertTokenizer, BertModel\n",
    "import torch\n",
    "\n",
    "tokenizer = BertTokenizer.from_pretrained('bert-base-uncased')\n",
    "bert_model = BertModel.from_pretrained('bert-base-uncased')\n",
    "bert_model = bert_model.cuda()\n",
    "\n",
    "def encode_texts_with_bert(texts, tokenizer, model):\n",
    "    model.eval()\n",
    "    embeddings = []\n",
    "\n",
    "    with torch.no_grad():\n",
    "        for text in texts:\n",
    "            if not text.strip():\n",
    "                embeddings.append(torch.zeros(768))\n",
    "                continue\n",
    "            inputs = tokenizer(text, return_tensors=\"pt\", padding=\"max_length\", truncation=True, max_length=128)\n",
    "            inputs = {k: v.cuda() for k, v in inputs.items()}\n",
    "            outputs = model(**inputs)\n",
    "            cls_embedding = outputs.last_hidden_state[:, 0, :]  # [CLS] token\n",
    "            embeddings.append(cls_embedding.squeeze(0).cpu())\n",
    "    return torch.stack(embeddings)\n",
    "\n",
    "# 2.3 Time feature (Real version)\n",
    "def get_relative_time_features(chain, eid2time):\n",
    "    relative_times = []\n",
    "\n",
    "    for node in chain:\n",
    "        tid = node['tweet_id']\n",
    "        t = eid2time.get(tid, 0.0)  # fallback to 0 if not found\n",
    "        delta_t_log = torch.log1p(torch.tensor(t, dtype=torch.float32))  # log(Δt + 1)\n",
    "        relative_times.append(delta_t_log.unsqueeze(0))\n",
    "\n",
    "    return torch.cat(relative_times, dim=0).unsqueeze(1)  # (num_nodes, 1)\n",
    "\n",
    "# 2.4 user features (simulating user embedding)\n",
    "import torch.nn as nn\n",
    "\n",
    "user_vocab_size = 50000\n",
    "user_embedding_dim = 64\n",
    "user_embedding_layer = nn.Embedding(user_vocab_size, user_embedding_dim)\n",
    "\n",
    "def get_user_embeddings(chain):\n",
    "    user_ids = [int(node['tweet_id']) % user_vocab_size for node in chain]\n",
    "    user_ids = torch.tensor(user_ids, dtype=torch.long)\n",
    "    user_embeds = user_embedding_layer(user_ids)\n",
    "    return user_embeds\n",
    "\n",
    "# 2.5 Concatenate all features into the final node vector\n",
    "\n",
    "def build_node_features(chain, tokenizer, bert_model, user_embedding_layer, eid2time):\n",
    "    texts = [node['text'] for node in chain]\n",
    "    text_embeddings = encode_texts_with_bert(texts, tokenizer, bert_model)  # (num_nodes, 768)\n",
    "    time_features = get_relative_time_features(chain, eid2time)             # (num_nodes, 1)\n",
    "    user_embeddings = get_user_embeddings(chain)                            # (num_nodes, 64)\n",
    "\n",
    "    return torch.cat([text_embeddings, time_features, user_embeddings], dim=-1)"
   ]
  },
  {
   "cell_type": "code",
   "execution_count": 18,
   "id": "384fc88f-86c6-49d7-af36-60c66d3e3f30",
   "metadata": {},
   "outputs": [
    {
     "name": "stderr",
     "output_type": "stream",
     "text": [
      "100%|██████████| 1490/1490 [37:08<00:00,  1.50s/it] \n"
     ]
    }
   ],
   "source": [
    "from tqdm import tqdm\n",
    "from sklearn.preprocessing import LabelEncoder\n",
    "\n",
    "features_list = []\n",
    "labels = []\n",
    "\n",
    "label_encoder = LabelEncoder()\n",
    "\n",
    "for event in tqdm(all_events):\n",
    "    node_features = build_node_features(event['chain'], tokenizer, bert_model, user_embedding_layer, eid2time)\n",
    "    features_list.append(node_features)\n",
    "    labels.append(event['label'])\n",
    "\n",
    "label_ids = label_encoder.fit_transform(labels)\n",
    "\n",
    "# save\n",
    "torch.save(features_list, \"../processed/twitter15_node_features.pt\")\n",
    "torch.save(label_ids, \"../processed/twitter15_labels.pt\")\n",
    "torch.save(label_encoder, \"../processed/twitter15_label_encoder.pkl\")"
   ]
  },
  {
   "cell_type": "markdown",
   "id": "91336627-ca1c-4b1a-9538-cc83e5acabd8",
   "metadata": {},
   "source": [
    " ### Step 3: Propagation Graph Construction "
   ]
  },
  {
   "cell_type": "code",
   "execution_count": 19,
   "id": "a19b8787-b04b-49e0-9d83-51eae0099130",
   "metadata": {},
   "outputs": [
    {
     "name": "stderr",
     "output_type": "stream",
     "text": [
      "/var/tmp/ipykernel_25070/2133137723.py:5: FutureWarning: You are using `torch.load` with `weights_only=False` (the current default value), which uses the default pickle module implicitly. It is possible to construct malicious pickle data which will execute arbitrary code during unpickling (See https://github.com/pytorch/pytorch/blob/main/SECURITY.md#untrusted-models for more details). In a future release, the default value for `weights_only` will be flipped to `True`. This limits the functions that could be executed during unpickling. Arbitrary objects will no longer be allowed to be loaded via this mode unless they are explicitly allowlisted by the user via `torch.serialization.add_safe_globals`. We recommend you start setting `weights_only=True` for any use case where you don't have full control of the loaded file. Please open an issue on GitHub for any issues related to this experimental feature.\n",
      "  node_features_list = torch.load(\"../processed/twitter15_node_features.pt\")\n",
      "/var/tmp/ipykernel_25070/2133137723.py:6: FutureWarning: You are using `torch.load` with `weights_only=False` (the current default value), which uses the default pickle module implicitly. It is possible to construct malicious pickle data which will execute arbitrary code during unpickling (See https://github.com/pytorch/pytorch/blob/main/SECURITY.md#untrusted-models for more details). In a future release, the default value for `weights_only` will be flipped to `True`. This limits the functions that could be executed during unpickling. Arbitrary objects will no longer be allowed to be loaded via this mode unless they are explicitly allowlisted by the user via `torch.serialization.add_safe_globals`. We recommend you start setting `weights_only=True` for any use case where you don't have full control of the loaded file. Please open an issue on GitHub for any issues related to this experimental feature.\n",
      "  label_ids = torch.load(\"../processed/twitter15_labels.pt\")\n"
     ]
    },
    {
     "name": "stdout",
     "output_type": "stream",
     "text": [
      "Loaded 1490 events.\n",
      " Saved graph data to ../processed/twitter15_graph_data.pt\n"
     ]
    }
   ],
   "source": [
    "import torch\n",
    "import json\n",
    "\n",
    "# Load features and labels\n",
    "node_features_list = torch.load(\"../processed/twitter15_node_features.pt\")\n",
    "label_ids = torch.load(\"../processed/twitter15_labels.pt\")\n",
    "\n",
    "# Load propagation chains\n",
    "CHAIN_PATH = '../data/twitter15/twitter15/twitter15_chain.jsonl'\n",
    "all_events = []\n",
    "with open(CHAIN_PATH, 'r') as f:\n",
    "    for line in f:\n",
    "        all_events.append(json.loads(line))\n",
    "\n",
    "print(f\"Loaded {len(all_events)} events.\")\n",
    "\n",
    "# Build edge_index\n",
    "def build_edge_index(chain):\n",
    "    node_id_map = {node['tweet_id']: idx for idx, node in enumerate(chain)}\n",
    "    edges = []\n",
    "    for node in chain:\n",
    "        child_idx = node_id_map[node['tweet_id']]\n",
    "        if node['parent'] != 'ROOT':\n",
    "            parent_idx = node_id_map.get(node['parent'], None)\n",
    "            if parent_idx is not None:\n",
    "                edges.append((parent_idx, child_idx))\n",
    "    if len(edges) == 0:\n",
    "        edges.append((0, 0))\n",
    "    edge_index = torch.tensor(edges, dtype=torch.long).t().contiguous()\n",
    "    return edge_index\n",
    "\n",
    "# Assemble graphs\n",
    "graph_data_list = []\n",
    "\n",
    "for i, event in enumerate(all_events):\n",
    "    node_features = node_features_list[i]\n",
    "    label = label_ids[i]\n",
    "    edge_index = build_edge_index(event['chain'])\n",
    "\n",
    "    graph = {\n",
    "        'x': node_features,\n",
    "        'edge_index': edge_index,\n",
    "        'y': label\n",
    "    }\n",
    "    graph_data_list.append(graph)\n",
    "\n",
    "# Save\n",
    "torch.save(graph_data_list, \"../processed/twitter15_graph_data.pt\")\n",
    "print(\" Saved graph data to ../processed/twitter15_graph_data.pt\")"
   ]
  },
  {
   "cell_type": "markdown",
   "id": "021a390b-fa09-452f-b8c1-7bf32870b275",
   "metadata": {},
   "source": [
    "### Step 4: Data exploration"
   ]
  },
  {
   "cell_type": "code",
   "execution_count": 1,
   "id": "42829ad6-5ad9-4142-b8a7-e1cb945bf98f",
   "metadata": {},
   "outputs": [
    {
     "name": "stdout",
     "output_type": "stream",
     "text": [
      " Successfully created and saved a new label_encoder!\n",
      "Classes: ['false' 'non-rumor' 'true' 'unverified']\n"
     ]
    }
   ],
   "source": [
    "from sklearn.preprocessing import LabelEncoder\n",
    "import pickle\n",
    "\n",
    "label_encoder = LabelEncoder()\n",
    "label_encoder.fit(['false', 'non-rumor', 'true', 'unverified'])\n",
    "\n",
    "with open(\"../processed/twitter15_label_encoder.pkl\", \"wb\") as f:\n",
    "    pickle.dump(label_encoder, f, protocol=pickle.HIGHEST_PROTOCOL)\n",
    "\n",
    "print(\" Successfully created and saved a new label_encoder!\")\n",
    "print(\"Classes:\", label_encoder.classes_)"
   ]
  },
  {
   "cell_type": "code",
   "execution_count": 2,
   "id": "f73fa5ee-db16-4b31-8902-e802744e781c",
   "metadata": {},
   "outputs": [
    {
     "name": "stdout",
     "output_type": "stream",
     "text": [
      "The history saving thread hit an unexpected error (OperationalError('disk I/O error')).History will not be written to the database.\n",
      "Loaded 1490 node feature sequences.\n",
      "Loaded 1490 labels.\n",
      "Loaded 1490 propagation graphs.\n",
      "Label classes: ['false' 'non-rumor' 'true' 'unverified']\n",
      " All NaN replaced by 0.0 in node features!\n"
     ]
    }
   ],
   "source": [
    "import torch\n",
    "import pickle\n",
    "import os\n",
    "\n",
    "# ========== Path Config ==========\n",
    "DATA_DIR = \"../processed/\"\n",
    "FEATURES_FILE = os.path.join(DATA_DIR, \"twitter15_node_features.pt\")\n",
    "LABELS_FILE = os.path.join(DATA_DIR, \"twitter15_labels.pt\")\n",
    "LABEL_ENCODER_FILE = os.path.join(DATA_DIR, \"twitter15_label_encoder.pkl\")\n",
    "GRAPH_FILE = os.path.join(DATA_DIR, \"twitter15_graph_data.pt\")\n",
    "\n",
    "# ========== Load Processed Data ==========\n",
    "node_features_list = torch.load(FEATURES_FILE, weights_only=False)    # list of [num_nodes, 833] tensors\n",
    "label_ids = torch.load(LABELS_FILE, weights_only=False)                # tensor of labels\n",
    "\n",
    "with open(LABEL_ENCODER_FILE, 'rb') as f:\n",
    "    label_encoder = pickle.load(f)                                     # label encoder\n",
    "\n",
    "graph_data_list = torch.load(GRAPH_FILE, weights_only=False)           # list of PyG Data objects\n",
    "\n",
    "print(f\"Loaded {len(node_features_list)} node feature sequences.\")\n",
    "print(f\"Loaded {len(label_ids)} labels.\")\n",
    "print(f\"Loaded {len(graph_data_list)} propagation graphs.\")\n",
    "print(f\"Label classes: {label_encoder.classes_}\")\n",
    "# 2. fix NaN\n",
    "for i in range(len(node_features_list)):\n",
    "    node_features_list[i] = torch.nan_to_num(node_features_list[i], nan=0.0)\n",
    "\n",
    "print(\" All NaN replaced by 0.0 in node features!\")"
   ]
  },
  {
   "cell_type": "markdown",
   "id": "3fcab2db-eac0-40d5-86f0-3584a1a7566f",
   "metadata": {},
   "source": [
    "### 4.1 探索 node_features_list\n",
    "\n",
    "数据结构\n",
    "\n",
    "总共：768 + 1 + 64 = 833维\n",
    "\n",
    "文本内容 (BERT embedding)\t768维\t把节点文本用BERT编码，抽象出语义向量\n",
    "\n",
    "时间特征 (time delta)\t1维\t节点与源节点之间的时间差（通常标准化过）\n",
    "\n",
    "用户特征 (user id embedding)\t64维\t把用户ID编码成一个64维向量\n",
    "\n",
    "节点ID | 用户 | 内容 | 角色\n",
    "\n",
    "0 | A | \"某地爆炸了！！\"（源推文） | 源头\n",
    "\n",
    "1 | B | 转发A的推文 | 第一代传播\n",
    "\n",
    "2 | C | 转发A的推文 | 第一代传播\n",
    "\n",
    "3 | D | 转发B的转发 | 第二代传播"
   ]
  },
  {
   "cell_type": "code",
   "execution_count": 3,
   "id": "9f33295c-387e-4123-8ddd-7440a35d811f",
   "metadata": {},
   "outputs": [
    {
     "name": "stdout",
     "output_type": "stream",
     "text": [
      "Total number of nodes: 607289\n",
      "Feature dimension per node: 833\n",
      "Feature Means (first 10 dims): tensor([-0.2539, -0.1131, -0.0734, -0.2146, -0.3849, -0.1318,  0.3193,  0.4715,\n",
      "        -0.1608, -0.1220], grad_fn=<SliceBackward0>)\n",
      "Feature Stds (first 10 dims): tensor([0.2741, 0.1853, 0.2084, 0.2120, 0.2464, 0.2648, 0.2313, 0.2426, 0.2207,\n",
      "        0.1908], grad_fn=<SliceBackward0>)\n",
      "Feature Maxs (first 10 dims): tensor([0.4496, 0.5514, 0.8548, 0.6123, 0.3995, 0.8196, 1.3804, 1.2314, 0.6244,\n",
      "        0.6327], grad_fn=<SliceBackward0>)\n",
      "Feature Mins (first 10 dims): tensor([-1.3035, -0.8222, -0.8862, -1.1078, -1.3406, -0.9820, -0.2369, -0.1708,\n",
      "        -0.9590, -0.8842], grad_fn=<SliceBackward0>)\n",
      "Number of near-zero variance features: 0\n"
     ]
    }
   ],
   "source": [
    "import torch\n",
    "import numpy as np\n",
    "\n",
    "# 合并所有节点特征\n",
    "all_node_features = torch.cat(node_features_list, dim=0)  # Shape [total_nodes, 833]\n",
    "\n",
    "print(f\"Total number of nodes: {all_node_features.shape[0]}\")\n",
    "print(f\"Feature dimension per node: {all_node_features.shape[1]}\")\n",
    "\n",
    "# 计算特征均值和标准差\n",
    "feature_means = torch.mean(all_node_features, dim=0)\n",
    "feature_stds = torch.std(all_node_features, dim=0)\n",
    "\n",
    "print(\"Feature Means (first 10 dims):\", feature_means[:10])\n",
    "print(\"Feature Stds (first 10 dims):\", feature_stds[:10])\n",
    "\n",
    "# 每个特征的最大值、最小值\n",
    "feature_maxs = torch.max(all_node_features, dim=0).values\n",
    "feature_mins = torch.min(all_node_features, dim=0).values\n",
    "\n",
    "print(\"Feature Maxs (first 10 dims):\", feature_maxs[:10])\n",
    "print(\"Feature Mins (first 10 dims):\", feature_mins[:10])\n",
    "\n",
    "# 检查有没有方差接近0的特征\n",
    "near_zero_var_count = torch.sum(feature_stds < 1e-6).item()\n",
    "print(f\"Number of near-zero variance features: {near_zero_var_count}\")"
   ]
  },
  {
   "cell_type": "code",
   "execution_count": 7,
   "id": "60ad917a-e063-4a30-88e3-d4a09942c744",
   "metadata": {},
   "outputs": [
    {
     "name": "stdout",
     "output_type": "stream",
     "text": [
      "Number of events: 1490\n",
      "Nodes per event - Min: 56, Max: 3009, Mean: 407.58\n"
     ]
    },
    {
     "data": {
      "image/png": "[encoded data removed]",
      "text/plain": [
       "<Figure size 640x480 with 1 Axes>"
      ]
     },
     "metadata": {},
     "output_type": "display_data"
    }
   ],
   "source": [
    "import torch\n",
    "import matplotlib.pyplot as plt\n",
    "import networkx as nx\n",
    "import numpy as np\n",
    "\n",
    "# 1. 数据基本情况\n",
    "num_events = len(node_features_list)\n",
    "print(f\"Number of events: {num_events}\")\n",
    "\n",
    "# 每条事件的节点数\n",
    "num_nodes_per_event = [features.shape[0] for features in node_features_list]\n",
    "print(f\"Nodes per event - Min: {np.min(num_nodes_per_event)}, Max: {np.max(num_nodes_per_event)}, Mean: {np.mean(num_nodes_per_event):.2f}\")\n",
    "\n",
    "# 画节点数分布直方图\n",
    "plt.hist(num_nodes_per_event, bins=30)\n",
    "plt.xlabel(\"Number of nodes per event\")\n",
    "plt.ylabel(\"Number of events\")\n",
    "plt.title(\"Distribution of event sizes (number of nodes)\")\n",
    "plt.show()"
   ]
  },
  {
   "cell_type": "markdown",
   "id": "ccdb03b2-84fe-4a37-9ff1-8f045dd53963",
   "metadata": {},
   "source": [
    "### 4.2 twitter15_labels.pt"
   ]
  },
  {
   "cell_type": "code",
   "execution_count": 12,
   "id": "28ce8cc2-0544-40ca-b26e-dbf9655e4e3d",
   "metadata": {},
   "outputs": [
    {
     "name": "stdout",
     "output_type": "stream",
     "text": [
      "[3 3 1 1 2 1 3 2 3 0]\n",
      "['unverified' 'unverified' 'non-rumor' 'non-rumor' 'true' 'non-rumor'\n",
      " 'unverified' 'true' 'unverified' 'false']\n"
     ]
    }
   ],
   "source": [
    "print(label_ids[:10])  # 看前10条事件的标签ID\n",
    "print(label_encoder.inverse_transform(label_ids[:10].tolist()))  # 看前10条对应的类别名"
   ]
  },
  {
   "cell_type": "markdown",
   "id": "cac77762-6e6a-427f-8e5c-b7bac4ec976a",
   "metadata": {},
   "source": [
    "原本是list，训练时需要转换为tensor"
   ]
  },
  {
   "cell_type": "code",
   "execution_count": 8,
   "id": "d5eb09a5-13ed-4c22-9277-114f2bf1eb9a",
   "metadata": {},
   "outputs": [
    {
     "name": "stdout",
     "output_type": "stream",
     "text": [
      "Total number of events: 1490\n",
      "Label 'false': 370 events\n",
      "Label 'non-rumor': 374 events\n",
      "Label 'true': 372 events\n",
      "Label 'unverified': 374 events\n"
     ]
    }
   ],
   "source": [
    "import torch\n",
    "\n",
    "# 确保 label_ids 是Tensor\n",
    "label_ids = torch.as_tensor(label_ids)\n",
    "\n",
    "# 打印基本信息\n",
    "print(f\"Total number of events: {label_ids.shape[0]}\")\n",
    "\n",
    "# 统计每类标签数量\n",
    "unique_labels, counts = torch.unique(label_ids, return_counts=True)\n",
    "\n",
    "# 用LabelEncoder还原成文字\n",
    "for label_idx, count in zip(unique_labels.tolist(), counts.tolist()):\n",
    "    label_name = label_encoder.inverse_transform([label_idx])[0]\n",
    "    print(f\"Label '{label_name}': {count} events\")"
   ]
  },
  {
   "cell_type": "markdown",
   "id": "c037560d-901f-4f68-a9e4-f277cb5ffc1b",
   "metadata": {},
   "source": [
    "### 4.3 探索twitter15_label_encoder.pkl"
   ]
  },
  {
   "cell_type": "code",
   "execution_count": 13,
   "id": "7303015d-de50-43f2-85cb-8185af43c178",
   "metadata": {},
   "outputs": [
    {
     "name": "stdout",
     "output_type": "stream",
     "text": [
      "LabelEncoder classes: ['false' 'non-rumor' 'true' 'unverified']\n"
     ]
    }
   ],
   "source": [
    "print(\"LabelEncoder classes:\", label_encoder.classes_)"
   ]
  },
  {
   "cell_type": "code",
   "execution_count": 14,
   "id": "2e1be57e-47fc-43d9-9a42-597cdaa90fb5",
   "metadata": {},
   "outputs": [
    {
     "name": "stdout",
     "output_type": "stream",
     "text": [
      "[2 0 3]\n",
      "['true' 'false' 'unverified']\n"
     ]
    }
   ],
   "source": [
    "#sample usage\n",
    "\n",
    "# 字符串转数字\n",
    "print(label_encoder.transform(['true', 'false', 'unverified']))\n",
    "# ➔ 输出 tensor([2, 0, 3])\n",
    "\n",
    "# 数字转字符串\n",
    "print(label_encoder.inverse_transform([2, 0, 3]))\n",
    "# ➔ 输出 ['true', 'false', 'unverified']"
   ]
  },
  {
   "cell_type": "markdown",
   "id": "f98037e0-2aff-401b-8f49-d374586cc95b",
   "metadata": {},
   "source": [
    "### 4.4 探索 twitter15_graph_data.pt"
   ]
  },
  {
   "cell_type": "code",
   "execution_count": 32,
   "id": "5ddd7b7f-0c8f-4502-906b-259403bec530",
   "metadata": {},
   "outputs": [
    {
     "name": "stdout",
     "output_type": "stream",
     "text": [
      "Total number of events: 1490\n",
      "Sample Graph Keys: dict_keys(['x', 'edge_index', 'y'])\n",
      "Sample Graph - number of nodes: 758\n",
      "Sample Graph - edge_index shape: torch.Size([2, 15])\n",
      "Sample Graph - label (y): 3\n",
      "First 5 edges (parent ➔ child):\n",
      "tensor([[757, 757, 757, 757, 757],\n",
      "        [150, 157, 198, 261, 755]])\n",
      "Nodes per event - Min: 56, Max: 3009, Mean: 407.58\n",
      "Edges per event - Min: 0, Max: 1872, Mean: 42.99\n"
     ]
    }
   ],
   "source": [
    "import torch\n",
    "# 打印总数量\n",
    "print(f\"Total number of events: {len(graph_data_list)}\")\n",
    "\n",
    "# 打印第一个事件的基本结构\n",
    "sample_graph = graph_data_list[14]\n",
    "\n",
    "print(\"Sample Graph Keys:\", sample_graph.keys())\n",
    "print(f\"Sample Graph - number of nodes: {sample_graph['x'].shape[0]}\")\n",
    "print(f\"Sample Graph - edge_index shape: {sample_graph['edge_index'].shape}\")\n",
    "print(f\"Sample Graph - label (y): {sample_graph['y'].item()}\")\n",
    "\n",
    "# 打印前5条传播边\n",
    "print(\"First 5 edges (parent ➔ child):\")\n",
    "print(sample_graph['edge_index'][:, :5])\n",
    "\n",
    "# 正确统计所有事件的节点数、边数\n",
    "num_nodes_list = [g['x'].shape[0] for g in graph_data_list]\n",
    "num_edges_list = [g['edge_index'].shape[1] for g in graph_data_list]\n",
    "\n",
    "print(f\"Nodes per event - Min: {min(num_nodes_list)}, Max: {max(num_nodes_list)}, Mean: {sum(num_nodes_list)/len(num_nodes_list):.2f}\")\n",
    "print(f\"Edges per event - Min: {min(num_edges_list)}, Max: {max(num_edges_list)}, Mean: {sum(num_edges_list)/len(num_edges_list):.2f}\")"
   ]
  },
  {
   "cell_type": "code",
   "execution_count": 33,
   "id": "201f6661-618d-42dd-bf3b-02e1b3ab7add",
   "metadata": {},
   "outputs": [
    {
     "name": "stdout",
     "output_type": "stream",
     "text": [
      "{'x': tensor([[-0.4275, -0.2643, -0.2163,  ...,  1.0586,  0.5130,  0.3346],\n",
      "        [-0.4275, -0.2643, -0.2163,  ...,  1.0586,  0.5130,  0.3346],\n",
      "        [-0.4275, -0.2643, -0.2163,  ...,  1.0586,  0.5130,  0.3346],\n",
      "        ...,\n",
      "        [ 0.0000,  0.0000,  0.0000,  ..., -0.5869,  1.0075,  0.8085],\n",
      "        [ 0.0000,  0.0000,  0.0000,  ..., -0.1706,  0.6560,  1.5461],\n",
      "        [-0.4275, -0.2643, -0.2163,  ...,  1.0586,  0.5130,  0.3346]],\n",
      "       requires_grad=True), 'edge_index': tensor([[757, 757, 757, 757, 757, 757, 757, 755, 755, 757, 570, 757, 570, 756,\n",
      "         755],\n",
      "        [150, 157, 198, 261, 755, 295, 447, 757, 570, 625, 755, 755, 756, 755,\n",
      "         756]]), 'y': np.int64(3)}\n"
     ]
    }
   ],
   "source": [
    "print(sample_graph)"
   ]
  },
  {
   "cell_type": "code",
   "execution_count": 21,
   "id": "e184e010-ed4a-4dd7-a455-b58b64ed0b25",
   "metadata": {},
   "outputs": [
    {
     "name": "stdout",
     "output_type": "stream",
     "text": [
      "Number of nodes: 6\n",
      "Number of edges: 6\n",
      "Is DAG (Directed Acyclic Graph)? False\n"
     ]
    },
    {
     "data": {
      "image/png": "[encoded data removed]",
      "text/plain": [
       "<Figure size 800x600 with 1 Axes>"
      ]
     },
     "metadata": {},
     "output_type": "display_data"
    }
   ],
   "source": [
    "import torch\n",
    "import networkx as nx\n",
    "import matplotlib.pyplot as plt\n",
    "\n",
    "edge_index = graph_data_list[0]['edge_index']  # 注意是['edge_index']\n",
    "\n",
    "# 转成NetworkX有向图\n",
    "G = nx.DiGraph()\n",
    "src_nodes = edge_index[0].tolist()\n",
    "tgt_nodes = edge_index[1].tolist()\n",
    "edges = list(zip(src_nodes, tgt_nodes))\n",
    "G.add_edges_from(edges)\n",
    "\n",
    "# 打印基本信息\n",
    "print(f\"Number of nodes: {G.number_of_nodes()}\")\n",
    "print(f\"Number of edges: {G.number_of_edges()}\")\n",
    "print(f\"Is DAG (Directed Acyclic Graph)? {nx.is_directed_acyclic_graph(G)}\")\n",
    "\n",
    "# 画出来\n",
    "plt.figure(figsize=(8, 6))\n",
    "pos = nx.spring_layout(G, seed=42)\n",
    "nx.draw(G, pos, with_labels=True, node_size=300, font_size=8, arrows=True)\n",
    "plt.title(\"Propagation Chain Example\")\n",
    "plt.show()"
   ]
  },
  {
   "cell_type": "markdown",
   "id": "55f89549-eebf-47e5-a34c-5e152b1fd086",
   "metadata": {},
   "source": [
    "我们发现有自环情况"
   ]
  },
  {
   "cell_type": "code",
   "execution_count": 3,
   "id": "419cff0f-e1dd-4731-8995-6111f01f42fc",
   "metadata": {},
   "outputs": [
    {
     "name": "stdout",
     "output_type": "stream",
     "text": [
      "Number of graphs with self-loops: 1490\n",
      "Total number of self-loops across all graphs: 541749\n"
     ]
    }
   ],
   "source": [
    "num_self_loop_graphs = 0\n",
    "total_self_loops = 0\n",
    "\n",
    "for g in graph_data_list:\n",
    "    edge_index = g['edge_index']\n",
    "    parents = edge_index[0].tolist()\n",
    "    children = edge_index[1].tolist()\n",
    "\n",
    "    self_loops = sum([1 for p, c in zip(parents, children) if p == c])\n",
    "    if self_loops > 0:\n",
    "        num_self_loop_graphs += 1\n",
    "        total_self_loops += self_loops\n",
    "\n",
    "print(f\"Number of graphs with self-loops: {num_self_loop_graphs}\")\n",
    "print(f\"Total number of self-loops across all graphs: {total_self_loops}\")"
   ]
  },
  {
   "cell_type": "code",
   "execution_count": 28,
   "id": "e151e84d-7e6c-4717-8752-f3572a4cc984",
   "metadata": {},
   "outputs": [
    {
     "name": "stdout",
     "output_type": "stream",
     "text": [
      "Loaded 1490 events.\n",
      "Successfully saved cleaned graph data to ../processed/twitter15_graph_data_clean.pt\n"
     ]
    }
   ],
   "source": [
    "import torch\n",
    "import json\n",
    "import os\n",
    "\n",
    "# Load features and labels\n",
    "node_features_list = torch.load(\"../processed/twitter15_node_features.pt\")\n",
    "label_ids = torch.load(\"../processed/twitter15_labels.pt\", weights_only=False)\n",
    "\n",
    "# Load propagation chains\n",
    "CHAIN_PATH = '../data/twitter15/twitter15/twitter15_chain.jsonl'\n",
    "all_events = []\n",
    "with open(CHAIN_PATH, 'r') as f:\n",
    "    for line in f:\n",
    "        all_events.append(json.loads(line))\n",
    "\n",
    "print(f\"Loaded {len(all_events)} events.\")\n",
    "\n",
    "# Build edge_index\n",
    "def build_edge_index(chain):\n",
    "    node_id_map = {node['tweet_id']: idx for idx, node in enumerate(chain)}\n",
    "    edges = []\n",
    "    for node in chain:\n",
    "        child_idx = node_id_map[node['tweet_id']]\n",
    "        if node['parent'] != 'ROOT':\n",
    "            parent_idx = node_id_map.get(node['parent'], None)\n",
    "            if parent_idx is not None:\n",
    "                edges.append((parent_idx, child_idx))\n",
    "    if len(edges) == 0:\n",
    "        edges.append((0, 0))\n",
    "    edge_index = torch.tensor(edges, dtype=torch.long).t().contiguous()\n",
    "    return edge_index\n",
    "\n",
    "# Function to remove self-loops\n",
    "def remove_self_loops(edge_index):\n",
    "    mask = edge_index[0] != edge_index[1]\n",
    "    return edge_index[:, mask]\n",
    "\n",
    "# Assemble graphs (with self-loop removal)\n",
    "graph_data_list = []\n",
    "\n",
    "for i, event in enumerate(all_events):\n",
    "    node_features = node_features_list[i]\n",
    "    label = label_ids[i]\n",
    "    edge_index = build_edge_index(event['chain'])\n",
    "    id_list = [node['tweet_id'] for node in event['chain']]\n",
    "\n",
    "    # Remove self-loops\n",
    "    edge_index = remove_self_loops(edge_index)\n",
    "\n",
    "    graph = {\n",
    "        'x': node_features,\n",
    "        'edge_index': edge_index,\n",
    "        'y': label,\n",
    "        'idx2id': id_list\n",
    "    }\n",
    "    graph_data_list.append(graph)\n",
    "\n",
    "# Save into a single .pt file\n",
    "CLEAN_SAVE_PATH = \"../processed/twitter15_graph_data_clean.pt\"\n",
    "torch.save(graph_data_list, CLEAN_SAVE_PATH)\n",
    "\n",
    "print(f\"Successfully saved cleaned graph data to {CLEAN_SAVE_PATH}\")"
   ]
  },
  {
   "cell_type": "code",
   "execution_count": 29,
   "id": "7a5534f8-60fa-4ab8-a31c-8b2662d97719",
   "metadata": {},
   "outputs": [
    {
     "name": "stdout",
     "output_type": "stream",
     "text": [
      "--- Graph 0 ---\n",
      "Edge Index:\n",
      "tensor([[147, 147, 147, 147, 147, 114,  78],\n",
      "        [  1,  40,  40,  43, 114,  78, 114]])\n",
      "idx2id:\n",
      "['731166399389962242', '731168205788471297', '731166399389962242', '731166399389962242', '731166399389962242', '731166399389962242', '731166399389962242', '731166399389962242', '731166399389962242', '731166399389962242', '731166399389962242', '731166399389962242', '731166399389962242', '731166399389962242', '731166399389962242', '731166399389962242', '731166399389962242', '731166399389962242', '731166399389962242', '731166399389962242', '731166399389962242', '731166399389962242', '731166399389962242', '731166399389962242', '731166399389962242', '731166399389962242', '731166399389962242', '731166399389962242', '731166399389962242', '731166399389962242', '731166399389962242', '731166399389962242', '731166399389962242', '731166399389962242', '731166399389962242', '731166399389962242', '731166399389962242', '731166399389962242', '731177762367655938', '731166399389962242', '731177762367655938', '731166399389962242', '731166399389962242', '731186700140089344', '731166399389962242', '731166399389962242', '731166399389962242', '731166399389962242', '731166399389962242', '731166399389962242', '731166399389962242', '731166399389962242', '731166399389962242', '731166399389962242', '731166399389962242', '731166399389962242', '731166399389962242', '731166399389962242', '731166399389962242', '731166399389962242', '731206742999220224', '731166399389962242', '731166399389962242', '731166399389962242', '731166399389962242', '731166399389962242', '731166399389962242', '731166399389962242', '731166399389962242', '731166399389962242', '731166399389962242', '731166399389962242', '731166399389962242', '731166399389962242', '731166399389962242', '731166399389962242', '731166399389962242', '731166399389962242', '731259452016365568', '731166399389962242', '731166399389962242', '731166399389962242', '731166399389962242', '731166399389962242', '731166399389962242', '731166399389962242', '731166399389962242', '731166399389962242', '731166399389962242', '731166399389962242', '731166399389962242', '731166399389962242', '731166399389962242', '731166399389962242', '731166399389962242', '731166399389962242', '731166399389962242', '731166399389962242', '731166399389962242', '731166399389962242', '731166399389962242', '731166399389962242', '731166399389962242', '731166399389962242', '731166399389962242', '731166399389962242', '731166399389962242', '731166399389962242', '731166399389962242', '731166399389962242', '731166399389962242', '731166399389962242', '731166399389962242', '731166399389962242', '731206742999220224', '731166399389962242', '731166399389962242', '731166399389962242', '731166399389962242', '731166399389962242', '731166399389962242', '731166399389962242', '731166399389962242', '731166399389962242', '731166399389962242', '731166399389962242', '731166399389962242', '731166399389962242', '731166399389962242', '731166399389962242', '731166399389962242', '731166399389962242', '731166399389962242', '731166399389962242', '731166399389962242', '731166399389962242', '731166399389962242', '731166399389962242', '731166399389962242', '731166399389962242', '731166399389962242', '731166399389962242', '731166399389962242', '731166399389962242', '731166399389962242', '731166399389962242', '731166399389962242', '731166399389962242']\n",
      "Max node index: 147\n",
      "Number of nodes: 148\n",
      "Expected node indices: 0 to 147\n",
      "\n",
      "\n",
      "--- Graph 1 ---\n",
      "Edge Index:\n",
      "tensor([[93, 93, 93, 93, 93, 59, 93],\n",
      "        [16, 24, 27, 59, 84, 95, 95]])\n",
      "idx2id:\n",
      "['714598641827246081', '714598641827246081', '714598641827246081', '714598641827246081', '714598641827246081', '714598641827246081', '714598641827246081', '714598641827246081', '714598641827246081', '714598641827246081', '714598641827246081', '714598641827246081', '714598641827246081', '714598641827246081', '714598641827246081', '714598641827246081', '714601867607740416', '714598641827246081', '714598641827246081', '714598641827246081', '714598641827246081', '714598641827246081', '714598641827246081', '714598641827246081', '714606190802690048', '714598641827246081', '714598641827246081', '714607216687505408', '714598641827246081', '714598641827246081', '714598641827246081', '714598641827246081', '714598641827246081', '714598641827246081', '714598641827246081', '714598641827246081', '714598641827246081', '714598641827246081', '714598641827246081', '714598641827246081', '714598641827246081', '714598641827246081', '714598641827246081', '714598641827246081', '714598641827246081', '714598641827246081', '714598641827246081', '714598641827246081', '714598641827246081', '714598641827246081', '714598641827246081', '714598641827246081', '714598641827246081', '714598641827246081', '714598641827246081', '714598641827246081', '714598641827246081', '714598641827246081', '714598641827246081', '714652458476285952', '714598641827246081', '714598641827246081', '714598641827246081', '714598641827246081', '714598641827246081', '714598641827246081', '714598641827246081', '714598641827246081', '714598641827246081', '714598641827246081', '714598641827246081', '714598641827246081', '714598641827246081', '714598641827246081', '714598641827246081', '714598641827246081', '714598641827246081', '714598641827246081', '714598641827246081', '714598641827246081', '714598641827246081', '714598641827246081', '714598641827246081', '714598641827246081', '714827683968978945', '714598641827246081', '714598641827246081', '714598641827246081', '714598641827246081', '714598641827246081', '714598641827246081', '714598641827246081', '714598641827246081', '714598641827246081', '740137781511479297', '740137781511479297']\n",
      "Max node index: 95\n",
      "Number of nodes: 96\n",
      "Expected node indices: 0 to 95\n",
      "\n",
      "\n"
     ]
    }
   ],
   "source": [
    "import torch\n",
    "\n",
    "# 加载已经保存好的文件\n",
    "graph_data_list = torch.load(\"../processed/twitter15_graph_data_clean.pt\", weights_only=False)\n",
    "\n",
    "# 打印前3条链的 edge_index 和 idx2id\n",
    "for i in range(2):\n",
    "    print(f\"--- Graph {i} ---\")\n",
    "    graph = graph_data_list[i]\n",
    "    edge_index = graph['edge_index']\n",
    "    idx2id = graph['idx2id']\n",
    "    \n",
    "    print(f\"Edge Index:\\n{edge_index}\")\n",
    "    print(f\"idx2id:\\n{idx2id}\")\n",
    "    \n",
    "    # 检查最大节点编号\n",
    "    print(f\"Max node index: {edge_index.max().item() if edge_index.numel() > 0 else 'No edges'}\")\n",
    "    print(f\"Number of nodes: {len(idx2id)}\")\n",
    "    print(f\"Expected node indices: 0 to {len(idx2id)-1}\")\n",
    "    print(\"\\n\")"
   ]
  },
  {
   "cell_type": "code",
   "execution_count": 30,
   "id": "b3b2246e-dbda-419e-9126-96ffbc66a8e8",
   "metadata": {},
   "outputs": [
    {
     "name": "stdout",
     "output_type": "stream",
     "text": [
      "====== Validation Result ======\n",
      "Total graphs checked: 1490\n",
      "Graphs with self-loops: 0\n",
      "Total number of self-loops: 0\n",
      "================================\n"
     ]
    }
   ],
   "source": [
    "import torch\n",
    "import networkx as nx\n",
    "\n",
    "# 加载刚才保存的clean graph数据\n",
    "graph_data_list_clean = torch.load(\"../processed/twitter15_graph_data_clean.pt\", weights_only=False)\n",
    "\n",
    "# 统计自环信息\n",
    "total_graphs = len(graph_data_list_clean)\n",
    "num_graphs_with_self_loops = 0\n",
    "total_self_loops = 0\n",
    "\n",
    "for g in graph_data_list_clean:\n",
    "    edge_index = g['edge_index']\n",
    "    parents = edge_index[0].tolist()\n",
    "    children = edge_index[1].tolist()\n",
    "\n",
    "    self_loops = sum([1 for p, c in zip(parents, children) if p == c])\n",
    "    if self_loops > 0:\n",
    "        num_graphs_with_self_loops += 1\n",
    "        total_self_loops += self_loops\n",
    "\n",
    "print(\"====== Validation Result ======\")\n",
    "print(f\"Total graphs checked: {total_graphs}\")\n",
    "print(f\"Graphs with self-loops: {num_graphs_with_self_loops}\")\n",
    "print(f\"Total number of self-loops: {total_self_loops}\")\n",
    "print(\"================================\")"
   ]
  }
 ],
 "metadata": {
  "kernelspec": {
   "display_name": "env_214",
   "language": "python",
   "name": "env_214"
  },
  "language_info": {
   "codemirror_mode": {
    "name": "ipython",
    "version": 3
   },
   "file_extension": ".py",
   "mimetype": "text/x-python",
   "name": "python",
   "nbconvert_exporter": "python",
   "pygments_lexer": "ipython3",
   "version": "3.13.2"
  }
 },
 "nbformat": 4,
 "nbformat_minor": 5
}
